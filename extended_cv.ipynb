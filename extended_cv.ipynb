{
 "cells": [
  {
   "cell_type": "code",
   "execution_count": 1,
   "id": "86a361b9-68d7-497d-93c7-a3c239cccfde",
   "metadata": {
    "jupyter": {
     "source_hidden": true
    },
    "tags": [
     "skip_in"
    ]
   },
   "outputs": [
    {
     "data": {
      "text/html": [
       "<style>\n",
       "table {float:left}\n",
       "</style>\n"
      ],
      "text/plain": [
       "<IPython.core.display.HTML object>"
      ]
     },
     "metadata": {},
     "output_type": "display_data"
    }
   ],
   "source": [
    "%%html\n",
    "<style>\n",
    "table {float:left}\n",
    "</style>"
   ]
  },
  {
   "cell_type": "markdown",
   "id": "ead30a4c-5251-4642-9357-d06c8786e09c",
   "metadata": {
    "tags": []
   },
   "source": [
    "# Dr. Prathiban Sureshkumar\n",
    "\n",
    "<img align=\"right\" width=\"200\" src=\"https://raw.githubusercontent.com/prathiban05/information/main/staff_photo.jpeg\">\n",
    "\n",
    "Research Associate at the Rolls-Royce (RR) Vibration University Technology Centre (VUTC) at Imperial College London, conducting research in Turbomachinery Aerodynamics, Aeroacoustics and Aeroelasticity.\n",
    "\n",
    "- [Summary](#summary)\n",
    "- [Professional Experience](#profesisonal)\n",
    "- [Education](#education)\n",
    "- [Publications](#publications)\n",
    "- [References](#references)\n",
    "- [Contact Information](#contact)\n"
   ]
  },
  {
   "cell_type": "markdown",
   "id": "5c375908-2fc3-4046-bdb2-8b97c8f9a142",
   "metadata": {
    "tags": [
     "skip"
    ],
    "toc-hr-collapsed": true
   },
   "source": [
    "## Personal Statement\n",
    "\n",
    "Research Associate at the Rolls-Royce (RR) Vibration University Technology Centre (VUTC) at Imperial College London, conducting research in Turbomachinery Aerodynamics, Aeroacoustics and Aeroelasticity. Currently, my research is particularly focussed on the development and application of numerical methods to predict internal flows, forced response and noise fields in the fan and compressor stages of civil aero-engines with low speed fans."
   ]
  },
  {
   "cell_type": "markdown",
   "id": "888a5176-351f-48ac-9eb4-05dd40c54abf",
   "metadata": {
    "tags": []
   },
   "source": [
    "## <a name=\"summary\"></a> Summary\n",
    "\n",
    "\n",
    "- Rolls-Royce (RR) funded postdoctoral researcher with 12 years experience conducting research in turbomachinery aerodynamics, aero-acoustics and aero-elasticity, working on aero-engine concepts such as the Advanced Open Rotor, UltraFan and Trent 1000. A particular focus on investigating rotor-stator interaction, rotors in distorted flows, rotor interaction with nearby structures and rotor noise and vibration.\n",
    "- Expert proficiency in running the full process of CFD simulation; primarily with specialised in-house software, and some experience of a few more general and commerical softwares.\n",
    "- Experience developing, scaling and improving functionality of a URANS CFD solver, used by RR for aero-engine aeromechanical investigation, design and some certification work (mainly TRL 4 to 6), as well as developing associated tools for pre- and post-processing and in-depth analysis.\n",
    "- Experience developing semi-analytic methods for the prediction and analysis of near-field propeller noise and aerodynamics\n",
    "- Advanced user of programming languages Python, FORTRAN and MATLAB. Significant expereince in Linux system administration including servers and high performance computing (HPC). \n"
   ]
  },
  {
   "cell_type": "markdown",
   "id": "0654d2c5-7026-41ca-bf67-4cc570ad4379",
   "metadata": {},
   "source": [
    "---"
   ]
  },
  {
   "cell_type": "markdown",
   "id": "fed43da0-6626-48c1-b7e6-4e60ac1444c3",
   "metadata": {
    "tags": [],
    "toc-hr-collapsed": true
   },
   "source": [
    "## <a name=\"professional\"></a> Professional Experience & Employment\n",
    "\n",
    "### *Research Associate in Turbomachinery Aerodynamics, Aero-acoustics and Aero-elasticity*\n",
    "\n",
    "<img align=\"right\" width=\"200\" src=\"https://upload.wikimedia.org/wikipedia/en/3/32/Logo_for_Imperial_College_London.svg\">\n",
    "\n",
    "(2015-)"
   ]
  },
  {
   "cell_type": "markdown",
   "id": "38bd4ef6-4318-4885-9c79-a5bb94ef1005",
   "metadata": {
    "tags": [],
    "toc-hr-collapsed": true
   },
   "source": [
    "**Research: Impact of Unsteady Distortions on Fan Forced Response ([FANFARE](https://gtr.ukri.org/projects?ref=113286))**\n",
    "\n",
    "- Investigation of (unsteady) inlet distortion due to head- and cross-wind for real engine geometeries (Trent 1000)\n",
    "- Development of a low-fidelity, rapid model to parametrically assess fan forced response due to inlet distortion\n",
    "- Report to recommend main parameters influencing fan forced response \n",
    "- Development of mesh extension and conversion tools for ANSYS mesh.\n",
    "- *This work is currently ongoing*\n"
   ]
  },
  {
   "cell_type": "markdown",
   "id": "3752db35-4134-45ca-af0d-9d54004d5ad2",
   "metadata": {
    "tags": [],
    "toc-hr-collapsed": true
   },
   "source": [
    "**Consultancy: Investigation of Trent 1000 Compressor Vibration Phenomenon**\n",
    "\n",
    "- Contributions to the root cause analysis of rotor resonant vibration in the [Trent 1000 compressor](l1)\n",
    "    - Conducted large-scale coupled fan & IPC forced response simulations, to help establish primary driving mechanism of rotor vibration at key operating conditions\n",
    "    - Development of bespoke tools to generate in-depth analysis of large flow datasets from these simulations\n",
    "    - Mechanism was shown to be a result of persistent and complex interactions of multiple rotors and/or stators\n",
    "    - This work also aided analyis of fleet data to establish trends in operation & component life\n",
    "    \n",
    "- Contributions to Trent 1000 compressor [blade redesign](l1) work\n",
    "    - Development of a low fidelity, rapid method for assessing vibration levels for new blade designs\n",
    "    - Provision of high fidelity simulation data of rotor resonance for new blade designs at key operating conditions\n",
    "    \n",
    "- This work was subject to regular reporting and repeated tight deadlines, so required excellent time management and organisaiton, but also the ability to be flexible. An intense schedule of computations was required in order to generate and analyse the relevant data as rapidly as possible\n",
    "\n",
    "[l1]: https://www.rolls-royce.com/trent-1000-durability.aspx\n",
    "\n",
    "[l2]: https://www.rolls-royce.com/products-and-services/civil-aerospace/airlines/trent-1000-updates-hub.aspx#section-copy-of-modules3\n",
    "\n",
    "[l3]: https://www.rolls-royce.com/media/our-stories/discover/2019/first-trent-1000-engines-with-new-package-c-blade-back-in-service.aspx\n",
    "\n",
    "[l4]: https://simpleflying.com/rolls-royce-trent-1000-solved/"
   ]
  },
  {
   "cell_type": "markdown",
   "id": "f9274d9c-9586-435b-ac6d-b7f162b57424",
   "metadata": {
    "tags": [],
    "toc-hr-collapsed": true
   },
   "source": [
    "**Research: Investigations into Fan Flutter and Intergration with Intakes ([iFan](https://gtr.ukri.org/projects?ref=113075#/tabOverview))**\n",
    "\n",
    "Short-term research work. Main contributions:\n",
    "- Investigate the effects of a three-dimensional intake geometry on fan flutter\n",
    "- Research conducted on the impact of modeshape and operating point on fan flutter in novel low speed fan designs"
   ]
  },
  {
   "cell_type": "markdown",
   "id": "5199a892-3e92-4525-8652-d8cf952c14a6",
   "metadata": {
    "tags": [],
    "toc-hr-collapsed": true
   },
   "source": [
    "**Consultancy: Compressor Vibration Assessment for Engine Certification of Rolls-Royce Pearl 15**\n",
    "\n",
    "- Forced response analysis of a full IP compressor (10 stage) was conducted in order to aid the aeromechanical performance of the compressor, at various operatin conditions. This dataset and asessment was ultimately of great value in meeting certification requirements.\n",
    "- Lage-scale computations were necessary due to the extensive computation domain and the necessity to perform lengthy unsteady computations (several rotor revolutions with high frequencies resolved) in a very limited time frame.\n",
    "- The resulting simulations were analysed for all possible compressor blade vibration modes induced by blade interaction forced response, flutter and non-synchronous forms such as rotating stall.\n",
    "- Initial assessment of the work indicated that existing software capabilities were insufficient in order to meet the objectives in the required time frame. Development of a novel paritioning scheme and code refactoring was undertaken at speed, which ultimately led to a 5x speed improvement, mainly due to improved load balancing, in the simulation run time. This allowed for the necessary work to be completed within the time frame and with redundancy. It also resulted in huge cost savings on compute time, to the tune of tens of thousands of pounds.\n"
   ]
  },
  {
   "cell_type": "markdown",
   "id": "432cd191-dfa7-4e33-8c88-a62ea218acf9",
   "metadata": {
    "tags": [],
    "toc-hr-collapsed": true
   },
   "source": [
    "**Research: Fan Stage Noise Assessment through CFD/CAA Simulation**\n",
    "\n",
    "- This work was conducted in order to assess the ability of an existing solver in predicting complex noise generation and propagation phenomena in the fan stage of an engine.\n",
    "- There was also a particular focus on assessing complexities in fan–stator interaction noise\n",
    "- High fidelity CFD simulations were conducted to accurately capture wake convection, blade response and noise propagation in the fan interstage.\n",
    "- Design guidelines established to minimise fan stage rotor-stator interaction noise, both by mitigating the source and attenuation through acoustic liners.\n",
    "- Previously the in-house solver had only been used for smaller computations on coarse grids, to assess relatively low frequency vibration. The project required familiarisation and refactorinig of the solver code, in order to increase limits on mesh size and code performance.\n",
    "- In order to perform aeroacoustic computations efficiently and reliably, the code was also modified to allow for parallelism with further scalability and improved precision, in order to reduce the numerical noise floor.\n",
    "- The methods and guidelines were applied to Rolls-Royce’s Ultrafan concept, in order to aid design optimisation."
   ]
  },
  {
   "cell_type": "markdown",
   "id": "7087e382-adcf-4793-876c-23a343e5e2e5",
   "metadata": {
    "tags": [],
    "toc-hr-collapsed": true
   },
   "source": [
    "\n",
    "\n",
    "Research Areas of Interest:\n",
    "- Computational Fluid Dynamics\n",
    "- High Performance Computing\n",
    "- Compressor Aeroelasticity\n",
    "- Fan Stage Aeroacoustics\n",
    "- Rotor Stator Interaction\n",
    "- UAV Rotor Noise\n",
    "- Machine Learning\n",
    "\n",
    "Other Roles & Responsibilities\n",
    "- Group System Adminstration of Servers and Clusters\n",
    "- Mathematics Tutoring\n",
    "- Dynamics & Vibration Tutoring\n",
    "- Exam Preparation and Marking\n",
    "- Supervision or Co-supervision of PhD Students, MSc Students and Visiting Research Interns."
   ]
  },
  {
   "cell_type": "markdown",
   "id": "2c39eab7-c8e6-4d1c-ab67-62d0f4280536",
   "metadata": {
    "tags": [],
    "toc-hr-collapsed": true
   },
   "source": [
    "### *Assitant Editor at Journal of Sound and Vibration ([JSV](jsv))*\n",
    "\n",
    "[jsv]: https://www.journals.elsevier.com/journal-of-sound-and-vibration\n",
    "\n",
    "(2019-)\n",
    "\n",
    "- Enact the screening process for manuscripts submitted to the Journal for publication.\n",
    "- Manuscripts must be cleared for novel contribution, scope, technical content and style, before being passed on to Receiving and Subject Editors for the full peer review process.\n",
    "- Editorial work at JSV has allowed me to keep up to date with the most novel technologies and methodologies available for understanding, mitigating and predicting noise and vibration, particularly in research directed towards aerospace applications for which I am responsible."
   ]
  },
  {
   "cell_type": "markdown",
   "id": "fe272a26-6375-4610-897a-d45986a40327",
   "metadata": {
    "tags": [],
    "toc-hr-collapsed": true
   },
   "source": [
    "### *Demonstrating/Teaching at University of Southampton*\n",
    "\n",
    "(2010-2014)\n",
    "\n",
    "- Run experimental demonstration labs using wind tunnels (Fluid Dynamics: Year 1 & 2) and teach/mark during tutorial sessions (Mathematics: Foundation, Year 1 & MSc).\n",
    "- Demonstrated ability to explain technical material in a clear manner, receving excellent feedback.\n",
    "- Teaching, marking and running a number of different labs and tutorials (on top of my various research projects) has made me extremely organised at work."
   ]
  },
  {
   "cell_type": "markdown",
   "id": "424e4c0f-c437-4598-a845-217c0d207121",
   "metadata": {
    "tags": []
   },
   "source": [
    "## <a name=\"education\"></a> Education\n",
    "\n",
    "### **Engineering Doctorate ([EngD](http://www.aengd.org.uk/programmes/)) in Open Rotor Aeroacoustics**\n",
    "\n",
    "Conducted at the Univesity Technology Centre for Gas Turbine Noise, Insititue of Sound and Vibration Research (ISVR) in conjunction with Rolls-Royce plc.\n",
    "\n",
    "<img align=\"right\" width=\"200\" src=\"https://upload.wikimedia.org/wikipedia/commons/a/a7/University_of_Southampton_Logo.svg\">\n",
    "\n",
    "[Link to Thesis](https://eprints.soton.ac.uk/417854/)\n",
    "\n",
    "Research Summary:\n",
    "\n",
    "- Prediction and mitigation of the acoustic field of an advanced open rotor aero-engine (AOR).\n",
    "- Produced tools which were used to a) aid blade and rotor design optimisation, b) validate and extract improved understanding from noise measurement campaigns and c) assist in the development of novel noise mitigation methods such as an open rotor centrebody liner.\n",
    "- Models for predicting near-field noise due to thickness, loading, wake interaction and potential field were developed\n",
    "- Models for assessing noise in free-field and wind tunnel environments were also derived. Wind tunnel models included acoustic treatment of individual walls and flow.\n",
    "- Assisted in model development for predicting the effect of nearby scattering structures, such as the engine centrebody and pylon\n",
    "- A method for extrapolating rotor noise data, independent of a source description, was also derived to assess results from different measurement campaigns, that had obtained kulite data at different measurement positions\n",
    "\n",
    "Achievements:\n",
    "\n",
    "- Analytical models, derived for predicting various near-field open rotor noise sources, coded into MATLAB for extended analysis\n",
    "- Data from open rotor experiments (which were conducted by RR & industrial partners) were analysed in depth in order to perform validations and comparisons between different wind tunnel and flight regime tests at ARA (Bedford) and DNW LLF (Marknesse) as well as different rig builds\n",
    "- Key insights derived from this work have been documented in journal papers, company reports and a patent.\n",
    "- Collaboration with Dr C Hall at Whittle Laboratory, Department of Engineering, Cambridge University for open rotor aerodynamics simulation\n",
    "- A near-field prediction tool has been written and transferred to ISVR and RR so that it may be integrated directly into the suite of acoustic prediction models.\n",
    "- WT models also used in two consultancy projects: a) SONIC: a measurement campaign for marine propeller noise in a water tank b) a beamforming measurment campaign by DLR, where only two of four walls were acoustically treated.\n",
    "\n",
    "Information on the *Transport and The Environment* EngD programme at the University of Southampton:\n",
    "\n",
    "- The programme aims to provide a doctorate level qualification whilst also focusing on developing skills useful for industry through placement and teaching. The taught element has consisted of a technical component and near completion of an MBA, in order to obtain business oriented skills.\n",
    "\n",
    "EngD Modules:\n",
    "- Aeroacoustics\n",
    "- Analytical and Numerical Acoustics\n",
    "- Project Management\n",
    "- Organisations in a Global Context\n",
    "- Strategy in Entrepreneurial Ventures\n",
    "\n",
    "and other technical / MBA modules."
   ]
  },
  {
   "cell_type": "markdown",
   "id": "922b1539-7b64-41e5-bb98-fef823524520",
   "metadata": {
    "tags": []
   },
   "source": [
    "### **MEng (Hons) in Aeronautics & Astronautics**\n",
    "\n",
    "#### Aeronautics & Propulsion Theme.\n",
    "\n",
    "<img align=\"right\" width=\"200\" src=\"https://upload.wikimedia.org/wikipedia/commons/a/a7/University_of_Southampton_Logo.svg\">\n",
    "\n",
    "Awarded 1st Class.\n",
    "\n",
    "Group Design Project  (year 4): Quadrotor Micro Air Vehicle\n",
    "- Design and build a semi-autonomous Quadrotor capable of hover.\n",
    "- Group leader and supervised integration of systems research\n",
    "- Also lead the technical work in lift system development\n",
    "    - including experimental assessment of optimal prop / motor combination\n",
    "- Contributor to craft dynamics modelling in MATLAB\n",
    "- Successfully constructed and tested concept, while remaining within time and cost budget (which was increased by a successful elevator pitch). Project achieved a first.\n",
    "\n",
    "Key Modules:\n",
    "- Powered Lift\n",
    "- Turbulence\n",
    "- Aerospace CFD\n",
    "- Design Search & Optimisation\n",
    "- Aircraft Propulsion\n",
    "- Aircraft Dynamics\n",
    "- PDEs\n",
    "\n",
    "and several other aerospace related modules.\n",
    "\n",
    "### **Reading School: A Levels & GCSEs**"
   ]
  },
  {
   "cell_type": "markdown",
   "id": "004bfbe3-9280-4b49-bb8f-3f7e6b183b8c",
   "metadata": {},
   "source": [
    "---"
   ]
  },
  {
   "cell_type": "markdown",
   "id": "2649b92a-5942-4300-adf7-83cad2213034",
   "metadata": {
    "tags": [
     "skip"
    ],
    "toc-hr-collapsed": true
   },
   "source": [
    "## Skills\n",
    "\n",
    "- Programming languages:\n",
    "    - Python\n",
    "    - FORTRAN\n",
    "    - MATLAB\n",
    "    - Bash\n",
    "    \n",
    "- Linux System Administration"
   ]
  },
  {
   "cell_type": "markdown",
   "id": "8773b782-c234-4f57-91ed-fb4b79950c7f",
   "metadata": {
    "tags": [
     "skip"
    ],
    "toc-hr-collapsed": true
   },
   "source": [
    "- Soft Skills\n",
    "    - Interpersonal Skills & Communication\n",
    "    - Problem Solving\n",
    "    - Adaptability\n",
    "    - Creativity\n",
    "    - Leadership"
   ]
  },
  {
   "cell_type": "markdown",
   "id": "b17483a7-5fb3-49c3-bef9-dcf74fe45999",
   "metadata": {
    "tags": []
   },
   "source": [
    "## <a name=\"publications\"></a>  Publications\n",
    "\n",
    "- Prathiban Sureshkumar, Michael J Kingan, and Anthony B Parry. Predicting the noise of an open rotor in a wind tunnel. *International Journal of Aeroacoustics*, 18(4-5):414–443, 2019.\n",
    "- Anthony Parry, Kevin Britchford, Michael Kingan, and Prathiban Sureshkumar. Aeroacoustic tests of isolated open rotors at high speed. In *18th AIAA/CEAS Aeroacoustics Conference (33rd AIAA Aeroacoustics Conference)*, page 2220, 2012.\n",
    "- Prathiban Sureshkumar and Michael Kingan. Open rotor tone acoustics: Near-field prediction & projection. In *18th AIAA/CEAS Aeroacoustics Conference (33rd AIAA Aeroacoustics Conference)*, page 2121, 2012.\n",
    "- Prathiban Sureshkumar, Michael Kingan, and Anthony Parry. A method for predicting the tone noise produced by an open rotor in a rectangular wind tunnel. *In 19th AIAA/CEAS Aeroacoustics Conference*, page 2095, 2013.\n",
    "- Michael J Kingan and Prathiban Sureshkumar. Open rotor centrebody scattering. *Journal of Sound and Vibration*, 333(2):418–433, 2014.\n",
    "- Prathiban Sureshkumar, Michael Kingan, and Anthony B Parry. Predicting the tonal noise of an open rotor in a wind tunnel with acoustically lined walls. *In 20th AIAA/CEAS Aeroacoustics Conference*, page 2609, 2014.\n",
    "- Prathiban Sureshkumar. *Near-field acoustic assessment of open rotor aero-engines*. PhD thesis, University of Southampton, 2017.\n",
    "- Prathiban Sureshkumar, Mehdi Vahdati, Anthony Parry, Stefano Bianchi, and M Doherty. Towards a holistic prediction of fan stage tone noise mechanisms. In *12th European Conference on Turbomachinery Fluid dynamics & Thermodynamics*. EUROPEAN TURBOMACHINERY SOCIETY, 2017.\n",
    "- Mehdi Vahdati, Fanzhou Zhao, and Prathiban Sureshkumar. An overview of time-domain computational methods for aeroelastic instabilities of multi-stage compressors. *Journal of the Global Power and Propulsion Society*, 4:114–127, 2020.\n",
    "- Mehdi Vahdati, Kuen-Bae Lee, and Prathiban Sureshkumar. A review of computational aeroelasticity of civil fan blades. *International Journal of Gas Turbine, Propulsion and Power Systems*, 11(4):22–35, 2020.\n",
    "\n",
    "[Google Scholar Profile](https://scholar.google.com/citations?user=OYW65P4AAAAJ&hl=en)"
   ]
  },
  {
   "cell_type": "markdown",
   "id": "d2bf3784-0567-4e1e-b872-25212d7c6cbd",
   "metadata": {
    "jp-MarkdownHeadingCollapsed": true,
    "tags": []
   },
   "source": [
    "## <a name=\"references\"></a>  References\n",
    "\n",
    "- [Dr Sina Stapelfeldt](mailto:s.stapelfeldt@imperial.ac.uk) *Current supervisor at Imperial College*\n",
    "- [Dr Bharat Lad](mailto:bharat.lad@rolls-royce.co.uk) *Industrial contact for FANFARE and IFan projects; AU3D development lead*\n",
    "- [Dr Jeff Green](mailto:jeff.green@rolls-royce.co.uk) *RR Fellow overseeing vibration research at VUTC*\n",
    "- [Dr Mehdi Vahdati](mailto:m.vahdati@imperial.ac.uk) *Previous supervisor at Imperial College*\n",
    "- [Dr Anthony Parry](mailto:anthony.parry.pig@gmail.com) *RR Fellow overseeing noise research at VUTC; EngD industrial supervisor*\n",
    "- [Dr John Dodds](mailto:john.dodds@rolls-royce.co.uk) *Industrial contact for RR Trent 1000 consultancy*\n",
    "- [Dr Bernhard Mueck](mailto:bernhard.mueck@rolls-royce.co.uk) *Industrial contact for RR Pearl 15 consultancy*\n",
    "- [Dr Michael Kingan](mailto:m.kingan@auckland.ac.nz) *EngD supervisor at Noise UTC / ISVR*"
   ]
  },
  {
   "cell_type": "markdown",
   "id": "b16c4070-d8a7-4c8f-9d8e-c04bd84184b8",
   "metadata": {
    "tags": []
   },
   "source": [
    "## <a name=\"contacts\"></a>  Contact Information\n",
    "\n",
    "_Address:_  \n",
    "23 Warden Road  \n",
    "Bedminster  \n",
    "BS3 1BU\n",
    "\n",
    "| | |\n",
    "| :- | -: |\n",
    "| 📱 (mobile) | (+44) 07309791459 |\n",
    "| 📧 (personal) | [prathiban_s@gmail.com](mailto:prathiban_s@hotmail.com) |\n",
    "| 📧 (work) | p.sureshkumar@imperial.ac.uk |\n"
   ]
  },
  {
   "cell_type": "markdown",
   "id": "4c22719c-1f58-44b2-84ed-c48bab385b21",
   "metadata": {
    "tags": [
     "skip"
    ]
   },
   "source": [
    "## Online Resources\n",
    "\n",
    "- [LinkedIn](https://uk.linkedin.com/in/prathiban)\n",
    "- [Github](https://github.com/prathiban05)\n",
    "- [Twitter](https://twitter.com/prathiban)"
   ]
  },
  {
   "cell_type": "code",
   "execution_count": 2,
   "id": "9740e369-626f-4340-abf2-90b7e874de7d",
   "metadata": {
    "jupyter": {
     "source_hidden": true
    },
    "tags": [
     "skip_in"
    ]
   },
   "outputs": [
    {
     "data": {
      "text/markdown": [
       "Last Updated: 13 January 2022"
      ],
      "text/plain": [
       "<IPython.core.display.Markdown object>"
      ]
     },
     "execution_count": 2,
     "metadata": {},
     "output_type": "execute_result"
    }
   ],
   "source": [
    "from IPython.display import Markdown as md\n",
    "import datetime as dt\n",
    "md(f\"Last Updated: {dt.datetime.today().strftime('%-d %B %Y')}\")"
   ]
  },
  {
   "cell_type": "code",
   "execution_count": 3,
   "id": "17951eb9-15c7-4f62-a72d-7b9652db0bfd",
   "metadata": {
    "jupyter": {
     "source_hidden": true
    },
    "tags": [
     "skip"
    ]
   },
   "outputs": [
    {
     "name": "stderr",
     "output_type": "stream",
     "text": [
      "[NbConvertApp] Converting notebook extended_cv.ipynb to html\n",
      "[NbConvertApp] Writing 597728 bytes to extended_cv.html\n"
     ]
    }
   ],
   "source": [
    "%%bash\n",
    "jupyter nbconvert extended_cv.ipynb --no-input --TagRemovePreprocessor.remove_cell_tags \"skip\" --TagRemovePreprocessor.remove_input_tags \"skip_in\"  --to html --output extended_cv.html"
   ]
  },
  {
   "cell_type": "markdown",
   "id": "5c51f29e-bc8d-48f4-a535-8cdff44ef3f4",
   "metadata": {
    "tags": [
     "skip"
    ]
   },
   "source": [
    "## not used\n",
    "\n",
    "![*Univerity of Southampton*](https://upload.wikimedia.org/wikipedia/commons/a/a7/University_of_Southampton_Logo.svg)\n",
    "\n",
    "T1000 IPC\n",
    "\n",
    "- This work involved in-depth analysis of aero-engine internal flows in order to understand the physical mechanisms of a blade vibration phenomenon encountered in an aero-engine compressor.\n",
    "- High fidelity CFD simulations were conducted in order to identify blade forced responses and these numerical solutions were coupled with a structural analysis tool to identify the source of blade vibration.\n",
    "- Whole engine simulations were conducted since the source of unsteadiness was shown to be the result of complex blade interactions.\n",
    "\n",
    "\n",
    "**Code Development: Improved Precision & Scalability of In-House CFD Simulation Software**\n",
    "\n",
    "- A large proportion of the work conducted during my employment at Imperial has required development of the CFD tool AU3D.\n",
    "\n",
    "- Other modifications include the development of new partitioning schemes to improve load balancing.\n"
   ]
  }
 ],
 "metadata": {
  "kernelspec": {
   "display_name": "Python 3 (ipykernel)",
   "language": "python",
   "name": "python3"
  },
  "language_info": {
   "codemirror_mode": {
    "name": "ipython",
    "version": 3
   },
   "file_extension": ".py",
   "mimetype": "text/x-python",
   "name": "python",
   "nbconvert_exporter": "python",
   "pygments_lexer": "ipython3",
   "version": "3.9.6"
  }
 },
 "nbformat": 4,
 "nbformat_minor": 5
}
